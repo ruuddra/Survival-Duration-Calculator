{
 "cells": [
  {
   "cell_type": "code",
   "execution_count": null,
   "id": "74f6e61f-a631-44b7-89e3-95cae611a340",
   "metadata": {},
   "outputs": [
    {
     "name": "stdout",
     "output_type": "stream",
     "text": [
      "Survival Duration Calculator\n"
     ]
    }
   ],
   "source": [
    "#Survival Duration Calculator\n",
    "print(\"Survival Duration Calculator\")\n",
    "\n",
    "def age_duration():\n",
    "  Age = int(input(\"What's your age? \"))\n",
    "\n",
    "  while True:\n",
    "    print('''Select the Unit to calcuate Age:\n",
    "  Months\n",
    "  Weeks\n",
    "  Days\n",
    "  Hours\n",
    "  Minutes\n",
    "  Seconds''')\n",
    "\n",
    "    unit = input(\"Please choose time unit: \")\n",
    "\n",
    "    if unit == \"Months\":\n",
    "      print('You lived for', Age*12, \"months\")\n",
    "      \n",
    "\n",
    "    elif unit == \"Weeks\":\n",
    "      print('You lived for ', Age*52, \"weeks\")\n",
    "      \n",
    "\n",
    "    elif unit == \"Days\":\n",
    "      print('You lived for', Age*365, \"days\")\n",
    "\n",
    "    elif unit == \"Hours\":\n",
    "      print('You lived for', Age*8760, \"hours\")\n",
    "      \n",
    "\n",
    "    elif unit == \"Minutes\":\n",
    "      print('You lived for', Age*525600, \"minutes\")\n",
    "      \n",
    "\n",
    "    elif unit == \"Seconds\":\n",
    "      print('You lived for', Age*31536000, \"seconds\")\n",
    "      \n",
    "\n",
    "    else:\n",
    "      print(\"Wrong input, try again\")\n",
    "\n",
    "    re_calculate = input(\"Do you want to re-calculate in other units ? yes/no = \")\n",
    "    if re_calculate == \"no\":\n",
    "      break\n",
    "\n",
    "    else:\n",
    "      print(\"wrong input,try again\")\n",
    "\n",
    "  print(\"\"\"Thank You\n",
    "- - - - - - - - - - - - - - - - - - - - - - - - - - - - - - - - - \"\"\")\n",
    "\n",
    "\n",
    "\n",
    "age_duration()"
   ]
  },
  {
   "cell_type": "code",
   "execution_count": null,
   "id": "6fc9fe1a-792b-4b97-b2e2-14d992b2788d",
   "metadata": {},
   "outputs": [],
   "source": []
  }
 ],
 "metadata": {
  "kernelspec": {
   "display_name": "Python 3 (ipykernel)",
   "language": "python",
   "name": "python3"
  },
  "language_info": {
   "codemirror_mode": {
    "name": "ipython",
    "version": 3
   },
   "file_extension": ".py",
   "mimetype": "text/x-python",
   "name": "python",
   "nbconvert_exporter": "python",
   "pygments_lexer": "ipython3",
   "version": "3.11.7"
  }
 },
 "nbformat": 4,
 "nbformat_minor": 5
}
